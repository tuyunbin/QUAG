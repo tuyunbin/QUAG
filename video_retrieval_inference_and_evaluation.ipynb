{
  "cells": [
    {
      "cell_type": "markdown",
      "metadata": {
        "id": "view-in-github",
        "colab_type": "text"
      },
      "source": [
        "<a href=\"https://colab.research.google.com/github/j-min/HiREST/blob/main/video_retrieval_inference_and_evaluation.ipynb\" target=\"_parent\"><img src=\"https://colab.research.google.com/assets/colab-badge.svg\" alt=\"Open In Colab\"/></a>"
      ]
    },
    {
      "cell_type": "markdown",
      "metadata": {
        "id": "EZ99Vtq5eQg8"
      },
      "source": [
        "# Inference and Evaluation of video retrieval task on HiREST\n",
        "\n",
        "* Project page: https://hirest-cvpr2023.github.io\n",
        "* Code: https://github.com/j-min/HiREST"
      ]
    },
    {
      "cell_type": "code",
      "execution_count": 1,
      "metadata": {
        "colab": {
          "base_uri": "https://localhost:8080/"
        },
        "id": "gcOO3-xSi_yx",
        "outputId": "b715db12-c5fb-4089-d0aa-8e91f1eed92b"
      },
      "outputs": [
        {
          "output_type": "stream",
          "name": "stdout",
          "text": [
            "Thu Mar 30 02:17:21 2023       \n",
            "+-----------------------------------------------------------------------------+\n",
            "| NVIDIA-SMI 525.85.12    Driver Version: 525.85.12    CUDA Version: 12.0     |\n",
            "|-------------------------------+----------------------+----------------------+\n",
            "| GPU  Name        Persistence-M| Bus-Id        Disp.A | Volatile Uncorr. ECC |\n",
            "| Fan  Temp  Perf  Pwr:Usage/Cap|         Memory-Usage | GPU-Util  Compute M. |\n",
            "|                               |                      |               MIG M. |\n",
            "|===============================+======================+======================|\n",
            "|   0  Tesla T4            Off  | 00000000:00:04.0 Off |                    0 |\n",
            "| N/A   47C    P8     9W /  70W |      0MiB / 15360MiB |      0%      Default |\n",
            "|                               |                      |                  N/A |\n",
            "+-------------------------------+----------------------+----------------------+\n",
            "                                                                               \n",
            "+-----------------------------------------------------------------------------+\n",
            "| Processes:                                                                  |\n",
            "|  GPU   GI   CI        PID   Type   Process name                  GPU Memory |\n",
            "|        ID   ID                                                   Usage      |\n",
            "|=============================================================================|\n",
            "|  No running processes found                                                 |\n",
            "+-----------------------------------------------------------------------------+\n"
          ]
        }
      ],
      "source": [
        "# Make sure GPU is used\n",
        "!nvidia-smi"
      ]
    },
    {
      "cell_type": "code",
      "execution_count": 2,
      "metadata": {
        "id": "ZhiHmRaafZR-"
      },
      "outputs": [],
      "source": [
        "git clone https://github.com/j-min/HiREST"
      ]
    },
    {
      "cell_type": "code",
      "execution_count": null,
      "metadata": {
        "id": "UZqEqJDBfbjX"
      },
      "outputs": [],
      "source": [
        "cd HiREST"
      ]
    },
    {
      "cell_type": "markdown",
      "metadata": {
        "id": "HvG6c3nUd92h"
      },
      "source": [
        "# Install Packages"
      ]
    },
    {
      "cell_type": "code",
      "execution_count": 4,
      "metadata": {
        "colab": {
          "base_uri": "https://localhost:8080/"
        },
        "id": "kSILQPMpd92j",
        "outputId": "3efc09a1-c5b1-4d1a-b0b8-288527fff1a1"
      },
      "outputs": [
        {
          "output_type": "stream",
          "name": "stdout",
          "text": [
            "Looking in indexes: https://pypi.org/simple, https://us-python.pkg.dev/colab-wheels/public/simple/\n",
            "Collecting git+https://github.com/openai/whisper.git@eff383b27b783e280c089475852ba83f20f64998 (from -r requirements.txt (line 21))\n",
            "  Cloning https://github.com/openai/whisper.git (to revision eff383b27b783e280c089475852ba83f20f64998) to /tmp/pip-req-build-yx0hmgd4\n",
            "  Running command git clone --filter=blob:none --quiet https://github.com/openai/whisper.git /tmp/pip-req-build-yx0hmgd4\n",
            "  Running command git rev-parse -q --verify 'sha^eff383b27b783e280c089475852ba83f20f64998'\n",
            "  Running command git fetch -q https://github.com/openai/whisper.git eff383b27b783e280c089475852ba83f20f64998\n",
            "  Running command git checkout -q eff383b27b783e280c089475852ba83f20f64998\n",
            "  Resolved https://github.com/openai/whisper.git to commit eff383b27b783e280c089475852ba83f20f64998\n",
            "  Preparing metadata (setup.py) ... \u001b[?25l\u001b[?25hdone\n",
            "Collecting git+https://github.com/bckim92/language-evaluation.git (from -r requirements.txt (line 22))\n",
            "  Cloning https://github.com/bckim92/language-evaluation.git to /tmp/pip-req-build-u6wp_6t4\n",
            "  Running command git clone --filter=blob:none --quiet https://github.com/bckim92/language-evaluation.git /tmp/pip-req-build-u6wp_6t4\n",
            "  Resolved https://github.com/bckim92/language-evaluation.git to commit 8e9e03feb7f5e605f20fc0c8dba0e24532a26216\n",
            "  Preparing metadata (setup.py) ... \u001b[?25l\u001b[?25hdone\n",
            "Collecting git+https://github.com/openai/CLIP.git (from -r requirements.txt (line 23))\n",
            "  Cloning https://github.com/openai/CLIP.git to /tmp/pip-req-build-e6w4qgiv\n",
            "  Running command git clone --filter=blob:none --quiet https://github.com/openai/CLIP.git /tmp/pip-req-build-e6w4qgiv\n",
            "  Resolved https://github.com/openai/CLIP.git to commit a9b1bf5920416aaeaec965c25dd9e8f98c864f16\n",
            "  Preparing metadata (setup.py) ... \u001b[?25l\u001b[?25hdone\n",
            "Requirement already satisfied: torch in /usr/local/lib/python3.9/dist-packages (from -r requirements.txt (line 1)) (1.13.1+cu116)\n",
            "Requirement already satisfied: torchvision in /usr/local/lib/python3.9/dist-packages (from -r requirements.txt (line 2)) (0.14.1+cu116)\n",
            "Requirement already satisfied: opencv-python in /usr/local/lib/python3.9/dist-packages (from -r requirements.txt (line 3)) (4.7.0.72)\n",
            "Collecting sentence-transformers\n",
            "  Downloading sentence-transformers-2.2.2.tar.gz (85 kB)\n",
            "\u001b[2K     \u001b[90m━━━━━━━━━━━━━━━━━━━━━━━━━━━━━━━━━━━━━━━━\u001b[0m \u001b[32m86.0/86.0 KB\u001b[0m \u001b[31m9.2 MB/s\u001b[0m eta \u001b[36m0:00:00\u001b[0m\n",
            "\u001b[?25h  Preparing metadata (setup.py) ... \u001b[?25l\u001b[?25hdone\n",
            "Collecting accelerate\n",
            "  Downloading accelerate-0.18.0-py3-none-any.whl (215 kB)\n",
            "\u001b[2K     \u001b[90m━━━━━━━━━━━━━━━━━━━━━━━━━━━━━━━━━━━━━━\u001b[0m \u001b[32m215.3/215.3 KB\u001b[0m \u001b[31m24.0 MB/s\u001b[0m eta \u001b[36m0:00:00\u001b[0m\n",
            "\u001b[?25hCollecting ujson\n",
            "  Downloading ujson-5.7.0-cp39-cp39-manylinux_2_17_x86_64.manylinux2014_x86_64.whl (52 kB)\n",
            "\u001b[2K     \u001b[90m━━━━━━━━━━━━━━━━━━━━━━━━━━━━━━━━━━━━━━━━\u001b[0m \u001b[32m52.8/52.8 KB\u001b[0m \u001b[31m6.4 MB/s\u001b[0m eta \u001b[36m0:00:00\u001b[0m\n",
            "\u001b[?25hRequirement already satisfied: pandas in /usr/local/lib/python3.9/dist-packages (from -r requirements.txt (line 7)) (1.4.4)\n",
            "Collecting wandb\n",
            "  Downloading wandb-0.14.0-py3-none-any.whl (2.0 MB)\n",
            "\u001b[2K     \u001b[90m━━━━━━━━━━━━━━━━━━━━━━━━━━━━━━━━━━━━━━━━\u001b[0m \u001b[32m2.0/2.0 MB\u001b[0m \u001b[31m67.0 MB/s\u001b[0m eta \u001b[36m0:00:00\u001b[0m\n",
            "\u001b[?25hCollecting ftfy\n",
            "  Downloading ftfy-6.1.1-py3-none-any.whl (53 kB)\n",
            "\u001b[2K     \u001b[90m━━━━━━━━━━━━━━━━━━━━━━━━━━━━━━━━━━━━━━━━\u001b[0m \u001b[32m53.1/53.1 KB\u001b[0m \u001b[31m5.5 MB/s\u001b[0m eta \u001b[36m0:00:00\u001b[0m\n",
            "\u001b[?25hRequirement already satisfied: regex in /usr/local/lib/python3.9/dist-packages (from -r requirements.txt (line 10)) (2022.10.31)\n",
            "Requirement already satisfied: tqdm in /usr/local/lib/python3.9/dist-packages (from -r requirements.txt (line 11)) (4.65.0)\n",
            "Collecting srt\n",
            "  Downloading srt-3.5.3.tar.gz (28 kB)\n",
            "  Preparing metadata (setup.py) ... \u001b[?25l\u001b[?25hdone\n",
            "Requirement already satisfied: IPython in /usr/local/lib/python3.9/dist-packages (from -r requirements.txt (line 13)) (7.34.0)\n",
            "Collecting kornia\n",
            "  Downloading kornia-0.6.11-py2.py3-none-any.whl (628 kB)\n",
            "\u001b[2K     \u001b[90m━━━━━━━━━━━━━━━━━━━━━━━━━━━━━━━━━━━━━━\u001b[0m \u001b[32m628.1/628.1 KB\u001b[0m \u001b[31m57.5 MB/s\u001b[0m eta \u001b[36m0:00:00\u001b[0m\n",
            "\u001b[?25hRequirement already satisfied: gdown in /usr/local/lib/python3.9/dist-packages (from -r requirements.txt (line 15)) (4.6.6)\n",
            "Collecting pickle5\n",
            "  Downloading pickle5-0.0.11.tar.gz (132 kB)\n",
            "\u001b[2K     \u001b[90m━━━━━━━━━━━━━━━━━━━━━━━━━━━━━━━━━━━━━━\u001b[0m \u001b[32m132.1/132.1 KB\u001b[0m \u001b[31m18.6 MB/s\u001b[0m eta \u001b[36m0:00:00\u001b[0m\n",
            "\u001b[?25h  Preparing metadata (setup.py) ... \u001b[?25l\u001b[?25hdone\n",
            "Collecting pycocoevalcap\n",
            "  Downloading pycocoevalcap-1.2-py3-none-any.whl (104.3 MB)\n",
            "\u001b[2K     \u001b[90m━━━━━━━━━━━━━━━━━━━━━━━━━━━━━━━━━━━━━━━\u001b[0m \u001b[32m104.3/104.3 MB\u001b[0m \u001b[31m9.7 MB/s\u001b[0m eta \u001b[36m0:00:00\u001b[0m\n",
            "\u001b[?25hCollecting timm\n",
            "  Downloading timm-0.6.13-py3-none-any.whl (549 kB)\n",
            "\u001b[2K     \u001b[90m━━━━━━━━━━━━━━━━━━━━━━━━━━━━━━━━━━━━━━\u001b[0m \u001b[32m549.1/549.1 KB\u001b[0m \u001b[31m53.4 MB/s\u001b[0m eta \u001b[36m0:00:00\u001b[0m\n",
            "\u001b[?25hCollecting bert-score\n",
            "  Downloading bert_score-0.3.13-py3-none-any.whl (61 kB)\n",
            "\u001b[2K     \u001b[90m━━━━━━━━━━━━━━━━━━━━━━━━━━━━━━━━━━━━━━━━\u001b[0m \u001b[32m61.1/61.1 KB\u001b[0m \u001b[31m8.6 MB/s\u001b[0m eta \u001b[36m0:00:00\u001b[0m\n",
            "\u001b[?25hCollecting boto3\n",
            "  Downloading boto3-1.26.102-py3-none-any.whl (135 kB)\n",
            "\u001b[2K     \u001b[90m━━━━━━━━━━━━━━━━━━━━━━━━━━━━━━━━━━━━━━\u001b[0m \u001b[32m135.6/135.6 KB\u001b[0m \u001b[31m16.6 MB/s\u001b[0m eta \u001b[36m0:00:00\u001b[0m\n",
            "\u001b[?25hRequirement already satisfied: typing-extensions in /usr/local/lib/python3.9/dist-packages (from torch->-r requirements.txt (line 1)) (4.5.0)\n",
            "Requirement already satisfied: pillow!=8.3.*,>=5.3.0 in /usr/local/lib/python3.9/dist-packages (from torchvision->-r requirements.txt (line 2)) (8.4.0)\n",
            "Requirement already satisfied: requests in /usr/local/lib/python3.9/dist-packages (from torchvision->-r requirements.txt (line 2)) (2.27.1)\n",
            "Requirement already satisfied: numpy in /usr/local/lib/python3.9/dist-packages (from torchvision->-r requirements.txt (line 2)) (1.22.4)\n",
            "Collecting transformers<5.0.0,>=4.6.0\n",
            "  Downloading transformers-4.27.4-py3-none-any.whl (6.8 MB)\n",
            "\u001b[2K     \u001b[90m━━━━━━━━━━━━━━━━━━━━━━━━━━━━━━━━━━━━━━━━\u001b[0m \u001b[32m6.8/6.8 MB\u001b[0m \u001b[31m103.2 MB/s\u001b[0m eta \u001b[36m0:00:00\u001b[0m\n",
            "\u001b[?25hRequirement already satisfied: scikit-learn in /usr/local/lib/python3.9/dist-packages (from sentence-transformers->-r requirements.txt (line 4)) (1.2.2)\n",
            "Requirement already satisfied: scipy in /usr/local/lib/python3.9/dist-packages (from sentence-transformers->-r requirements.txt (line 4)) (1.10.1)\n",
            "Requirement already satisfied: nltk in /usr/local/lib/python3.9/dist-packages (from sentence-transformers->-r requirements.txt (line 4)) (3.8.1)\n",
            "Collecting sentencepiece\n",
            "  Downloading sentencepiece-0.1.97-cp39-cp39-manylinux_2_17_x86_64.manylinux2014_x86_64.whl (1.3 MB)\n",
            "\u001b[2K     \u001b[90m━━━━━━━━━━━━━━━━━━━━━━━━━━━━━━━━━━━━━━━━\u001b[0m \u001b[32m1.3/1.3 MB\u001b[0m \u001b[31m78.2 MB/s\u001b[0m eta \u001b[36m0:00:00\u001b[0m\n",
            "\u001b[?25hCollecting huggingface-hub>=0.4.0\n",
            "  Downloading huggingface_hub-0.13.3-py3-none-any.whl (199 kB)\n",
            "\u001b[2K     \u001b[90m━━━━━━━━━━━━━━━━━━━━━━━━━━━━━━━━━━━━━━\u001b[0m \u001b[32m199.8/199.8 KB\u001b[0m \u001b[31m25.4 MB/s\u001b[0m eta \u001b[36m0:00:00\u001b[0m\n",
            "\u001b[?25hRequirement already satisfied: pyyaml in /usr/local/lib/python3.9/dist-packages (from accelerate->-r requirements.txt (line 5)) (6.0)\n",
            "Requirement already satisfied: packaging>=20.0 in /usr/local/lib/python3.9/dist-packages (from accelerate->-r requirements.txt (line 5)) (23.0)\n",
            "Requirement already satisfied: psutil in /usr/local/lib/python3.9/dist-packages (from accelerate->-r requirements.txt (line 5)) (5.9.4)\n",
            "Requirement already satisfied: python-dateutil>=2.8.1 in /usr/local/lib/python3.9/dist-packages (from pandas->-r requirements.txt (line 7)) (2.8.2)\n",
            "Requirement already satisfied: pytz>=2020.1 in /usr/local/lib/python3.9/dist-packages (from pandas->-r requirements.txt (line 7)) (2022.7.1)\n",
            "Collecting docker-pycreds>=0.4.0\n",
            "  Downloading docker_pycreds-0.4.0-py2.py3-none-any.whl (9.0 kB)\n",
            "Collecting setproctitle\n",
            "  Downloading setproctitle-1.3.2-cp39-cp39-manylinux_2_5_x86_64.manylinux1_x86_64.manylinux_2_17_x86_64.manylinux2014_x86_64.whl (30 kB)\n",
            "Requirement already satisfied: protobuf!=4.21.0,<5,>=3.15.0 in /usr/local/lib/python3.9/dist-packages (from wandb->-r requirements.txt (line 8)) (3.19.6)\n",
            "Requirement already satisfied: setuptools in /usr/local/lib/python3.9/dist-packages (from wandb->-r requirements.txt (line 8)) (67.6.1)\n",
            "Requirement already satisfied: appdirs>=1.4.3 in /usr/local/lib/python3.9/dist-packages (from wandb->-r requirements.txt (line 8)) (1.4.4)\n",
            "Collecting pathtools\n",
            "  Downloading pathtools-0.1.2.tar.gz (11 kB)\n",
            "  Preparing metadata (setup.py) ... \u001b[?25l\u001b[?25hdone\n",
            "Collecting sentry-sdk>=1.0.0\n",
            "  Downloading sentry_sdk-1.18.0-py2.py3-none-any.whl (194 kB)\n",
            "\u001b[2K     \u001b[90m━━━━━━━━━━━━━━━━━━━━━━━━━━━━━━━━━━━━━━\u001b[0m \u001b[32m194.8/194.8 KB\u001b[0m \u001b[31m21.9 MB/s\u001b[0m eta \u001b[36m0:00:00\u001b[0m\n",
            "\u001b[?25hRequirement already satisfied: Click!=8.0.0,>=7.0 in /usr/local/lib/python3.9/dist-packages (from wandb->-r requirements.txt (line 8)) (8.1.3)\n",
            "Collecting GitPython!=3.1.29,>=1.0.0\n",
            "  Downloading GitPython-3.1.31-py3-none-any.whl (184 kB)\n",
            "\u001b[2K     \u001b[90m━━━━━━━━━━━━━━━━━━━━━━━━━━━━━━━━━━━━━━\u001b[0m \u001b[32m184.3/184.3 KB\u001b[0m \u001b[31m21.1 MB/s\u001b[0m eta \u001b[36m0:00:00\u001b[0m\n",
            "\u001b[?25hRequirement already satisfied: wcwidth>=0.2.5 in /usr/local/lib/python3.9/dist-packages (from ftfy->-r requirements.txt (line 9)) (0.2.6)\n",
            "Requirement already satisfied: traitlets>=4.2 in /usr/local/lib/python3.9/dist-packages (from IPython->-r requirements.txt (line 13)) (5.7.1)\n",
            "Requirement already satisfied: pygments in /usr/local/lib/python3.9/dist-packages (from IPython->-r requirements.txt (line 13)) (2.14.0)\n",
            "Requirement already satisfied: decorator in /usr/local/lib/python3.9/dist-packages (from IPython->-r requirements.txt (line 13)) (4.4.2)\n",
            "Requirement already satisfied: backcall in /usr/local/lib/python3.9/dist-packages (from IPython->-r requirements.txt (line 13)) (0.2.0)\n",
            "Requirement already satisfied: matplotlib-inline in /usr/local/lib/python3.9/dist-packages (from IPython->-r requirements.txt (line 13)) (0.1.6)\n",
            "Requirement already satisfied: prompt-toolkit!=3.0.0,!=3.0.1,<3.1.0,>=2.0.0 in /usr/local/lib/python3.9/dist-packages (from IPython->-r requirements.txt (line 13)) (3.0.38)\n",
            "Collecting jedi>=0.16\n",
            "  Downloading jedi-0.18.2-py2.py3-none-any.whl (1.6 MB)\n",
            "\u001b[2K     \u001b[90m━━━━━━━━━━━━━━━━━━━━━━━━━━━━━━━━━━━━━━━━\u001b[0m \u001b[32m1.6/1.6 MB\u001b[0m \u001b[31m64.5 MB/s\u001b[0m eta \u001b[36m0:00:00\u001b[0m\n",
            "\u001b[?25hRequirement already satisfied: pexpect>4.3 in /usr/local/lib/python3.9/dist-packages (from IPython->-r requirements.txt (line 13)) (4.8.0)\n",
            "Requirement already satisfied: pickleshare in /usr/local/lib/python3.9/dist-packages (from IPython->-r requirements.txt (line 13)) (0.7.5)\n",
            "Requirement already satisfied: six in /usr/local/lib/python3.9/dist-packages (from gdown->-r requirements.txt (line 15)) (1.16.0)\n",
            "Requirement already satisfied: filelock in /usr/local/lib/python3.9/dist-packages (from gdown->-r requirements.txt (line 15)) (3.10.7)\n",
            "Requirement already satisfied: beautifulsoup4 in /usr/local/lib/python3.9/dist-packages (from gdown->-r requirements.txt (line 15)) (4.11.2)\n",
            "Requirement already satisfied: pycocotools>=2.0.2 in /usr/local/lib/python3.9/dist-packages (from pycocoevalcap->-r requirements.txt (line 17)) (2.0.6)\n",
            "Requirement already satisfied: matplotlib in /usr/local/lib/python3.9/dist-packages (from bert-score->-r requirements.txt (line 19)) (3.7.1)\n",
            "Collecting jmespath<2.0.0,>=0.7.1\n",
            "  Downloading jmespath-1.0.1-py3-none-any.whl (20 kB)\n",
            "Collecting botocore<1.30.0,>=1.29.102\n",
            "  Downloading botocore-1.29.102-py3-none-any.whl (10.6 MB)\n",
            "\u001b[2K     \u001b[90m━━━━━━━━━━━━━━━━━━━━━━━━━━━━━━━━━━━━━━━━\u001b[0m \u001b[32m10.6/10.6 MB\u001b[0m \u001b[31m86.0 MB/s\u001b[0m eta \u001b[36m0:00:00\u001b[0m\n",
            "\u001b[?25hCollecting s3transfer<0.7.0,>=0.6.0\n",
            "  Downloading s3transfer-0.6.0-py3-none-any.whl (79 kB)\n",
            "\u001b[2K     \u001b[90m━━━━━━━━━━━━━━━━━━━━━━━━━━━━━━━━━━━━━━━━\u001b[0m \u001b[32m79.6/79.6 KB\u001b[0m \u001b[31m12.2 MB/s\u001b[0m eta \u001b[36m0:00:00\u001b[0m\n",
            "\u001b[?25hRequirement already satisfied: more-itertools in /usr/local/lib/python3.9/dist-packages (from whisper==1.0->-r requirements.txt (line 21)) (9.1.0)\n",
            "Collecting ffmpeg-python==0.2.0\n",
            "  Downloading ffmpeg_python-0.2.0-py3-none-any.whl (25 kB)\n",
            "Requirement already satisfied: future in /usr/local/lib/python3.9/dist-packages (from ffmpeg-python==0.2.0->whisper==1.0->-r requirements.txt (line 21)) (0.18.3)\n",
            "Requirement already satisfied: scikit-image in /usr/local/lib/python3.9/dist-packages (from language-evaluation==0.1.0->-r requirements.txt (line 22)) (0.19.3)\n",
            "Requirement already satisfied: absl-py in /usr/local/lib/python3.9/dist-packages (from language-evaluation==0.1.0->-r requirements.txt (line 22)) (1.4.0)\n",
            "Collecting colorlog\n",
            "  Downloading colorlog-6.7.0-py2.py3-none-any.whl (11 kB)\n",
            "Requirement already satisfied: urllib3<1.27,>=1.25.4 in /usr/local/lib/python3.9/dist-packages (from botocore<1.30.0,>=1.29.102->boto3->-r requirements.txt (line 20)) (1.26.15)\n",
            "Collecting gitdb<5,>=4.0.1\n",
            "  Downloading gitdb-4.0.10-py3-none-any.whl (62 kB)\n",
            "\u001b[2K     \u001b[90m━━━━━━━━━━━━━━━━━━━━━━━━━━━━━━━━━━━━━━━━\u001b[0m \u001b[32m62.7/62.7 KB\u001b[0m \u001b[31m9.3 MB/s\u001b[0m eta \u001b[36m0:00:00\u001b[0m\n",
            "\u001b[?25hRequirement already satisfied: parso<0.9.0,>=0.8.0 in /usr/local/lib/python3.9/dist-packages (from jedi>=0.16->IPython->-r requirements.txt (line 13)) (0.8.3)\n",
            "Requirement already satisfied: ptyprocess>=0.5 in /usr/local/lib/python3.9/dist-packages (from pexpect>4.3->IPython->-r requirements.txt (line 13)) (0.7.0)\n",
            "Requirement already satisfied: importlib-resources>=3.2.0 in /usr/local/lib/python3.9/dist-packages (from matplotlib->bert-score->-r requirements.txt (line 19)) (5.12.0)\n",
            "Requirement already satisfied: cycler>=0.10 in /usr/local/lib/python3.9/dist-packages (from matplotlib->bert-score->-r requirements.txt (line 19)) (0.11.0)\n",
            "Requirement already satisfied: contourpy>=1.0.1 in /usr/local/lib/python3.9/dist-packages (from matplotlib->bert-score->-r requirements.txt (line 19)) (1.0.7)\n",
            "Requirement already satisfied: fonttools>=4.22.0 in /usr/local/lib/python3.9/dist-packages (from matplotlib->bert-score->-r requirements.txt (line 19)) (4.39.2)\n",
            "Requirement already satisfied: kiwisolver>=1.0.1 in /usr/local/lib/python3.9/dist-packages (from matplotlib->bert-score->-r requirements.txt (line 19)) (1.4.4)\n",
            "Requirement already satisfied: pyparsing>=2.3.1 in /usr/local/lib/python3.9/dist-packages (from matplotlib->bert-score->-r requirements.txt (line 19)) (3.0.9)\n",
            "Requirement already satisfied: certifi>=2017.4.17 in /usr/local/lib/python3.9/dist-packages (from requests->torchvision->-r requirements.txt (line 2)) (2022.12.7)\n",
            "Requirement already satisfied: charset-normalizer~=2.0.0 in /usr/local/lib/python3.9/dist-packages (from requests->torchvision->-r requirements.txt (line 2)) (2.0.12)\n",
            "Requirement already satisfied: idna<4,>=2.5 in /usr/local/lib/python3.9/dist-packages (from requests->torchvision->-r requirements.txt (line 2)) (3.4)\n",
            "Collecting tokenizers!=0.11.3,<0.14,>=0.11.1\n",
            "  Downloading tokenizers-0.13.2-cp39-cp39-manylinux_2_17_x86_64.manylinux2014_x86_64.whl (7.6 MB)\n",
            "\u001b[2K     \u001b[90m━━━━━━━━━━━━━━━━━━━━━━━━━━━━━━━━━━━━━━━━\u001b[0m \u001b[32m7.6/7.6 MB\u001b[0m \u001b[31m108.1 MB/s\u001b[0m eta \u001b[36m0:00:00\u001b[0m\n",
            "\u001b[?25hRequirement already satisfied: soupsieve>1.2 in /usr/local/lib/python3.9/dist-packages (from beautifulsoup4->gdown->-r requirements.txt (line 15)) (2.4)\n",
            "Requirement already satisfied: joblib in /usr/local/lib/python3.9/dist-packages (from nltk->sentence-transformers->-r requirements.txt (line 4)) (1.1.1)\n",
            "Requirement already satisfied: PySocks!=1.5.7,>=1.5.6 in /usr/local/lib/python3.9/dist-packages (from requests->torchvision->-r requirements.txt (line 2)) (1.7.1)\n",
            "Requirement already satisfied: imageio>=2.4.1 in /usr/local/lib/python3.9/dist-packages (from scikit-image->language-evaluation==0.1.0->-r requirements.txt (line 22)) (2.25.1)\n",
            "Requirement already satisfied: networkx>=2.2 in /usr/local/lib/python3.9/dist-packages (from scikit-image->language-evaluation==0.1.0->-r requirements.txt (line 22)) (3.0)\n",
            "Requirement already satisfied: tifffile>=2019.7.26 in /usr/local/lib/python3.9/dist-packages (from scikit-image->language-evaluation==0.1.0->-r requirements.txt (line 22)) (2023.3.21)\n",
            "Requirement already satisfied: PyWavelets>=1.1.1 in /usr/local/lib/python3.9/dist-packages (from scikit-image->language-evaluation==0.1.0->-r requirements.txt (line 22)) (1.4.1)\n",
            "Requirement already satisfied: threadpoolctl>=2.0.0 in /usr/local/lib/python3.9/dist-packages (from scikit-learn->sentence-transformers->-r requirements.txt (line 4)) (3.1.0)\n",
            "Collecting smmap<6,>=3.0.1\n",
            "  Downloading smmap-5.0.0-py3-none-any.whl (24 kB)\n",
            "Requirement already satisfied: zipp>=3.1.0 in /usr/local/lib/python3.9/dist-packages (from importlib-resources>=3.2.0->matplotlib->bert-score->-r requirements.txt (line 19)) (3.15.0)\n",
            "Building wheels for collected packages: sentence-transformers, srt, pickle5, whisper, language-evaluation, clip, pathtools\n",
            "  Building wheel for sentence-transformers (setup.py) ... \u001b[?25l\u001b[?25hdone\n",
            "  Created wheel for sentence-transformers: filename=sentence_transformers-2.2.2-py3-none-any.whl size=125942 sha256=724541f00ef9d23ee7c99ff8bf1cdcacd2ff0ccf320bfaa05c86e087f31a48a6\n",
            "  Stored in directory: /root/.cache/pip/wheels/71/67/06/162a3760c40d74dd40bc855d527008d26341c2b0ecf3e8e11f\n",
            "  Building wheel for srt (setup.py) ... \u001b[?25l\u001b[?25hdone\n",
            "  Created wheel for srt: filename=srt-3.5.3-py3-none-any.whl size=22445 sha256=761585f417cc489c893696ca27764778695dca0feceb58464f1f4da7f9722da8\n",
            "  Stored in directory: /root/.cache/pip/wheels/69/cb/6a/5e5977c5c1fab3b94ff429718103884855b0d5671ed9880100\n",
            "  Building wheel for pickle5 (setup.py) ... \u001b[?25l\u001b[?25hdone\n",
            "  Created wheel for pickle5: filename=pickle5-0.0.11-cp39-cp39-linux_x86_64.whl size=255904 sha256=2cbb0b12445fac0ddab7e8d2d95decc7ecc810bcce6d95c1931a5cf8c8ae13a3\n",
            "  Stored in directory: /root/.cache/pip/wheels/f2/7a/49/9bef8878949914ecb90c08fc5bf30a05e17f475fe7e08b63a8\n",
            "  Building wheel for whisper (setup.py) ... \u001b[?25l\u001b[?25hdone\n",
            "  Created wheel for whisper: filename=whisper-1.0-py3-none-any.whl size=1175239 sha256=20b98e604127534450447267c11c09f8f72cb92b22e3ba6e662191470c3488ae\n",
            "  Stored in directory: /root/.cache/pip/wheels/dd/89/2b/7fc7b14ee71513b56f55027bbbe542180e1037ab3b2c25c625\n",
            "  Building wheel for language-evaluation (setup.py) ... \u001b[?25l\u001b[?25hdone\n",
            "  Created wheel for language-evaluation: filename=language_evaluation-0.1.0-py3-none-any.whl size=42696072 sha256=041b99adfad75508153c3c92326ee75f55f08d0b53691a4ce23dc4e15510b57b\n",
            "  Stored in directory: /tmp/pip-ephem-wheel-cache-uinxdj4w/wheels/42/77/2e/c4eb4427f92d0448dabf7035fbff4963bf9d3e8802851adc35\n",
            "  Building wheel for clip (setup.py) ... \u001b[?25l\u001b[?25hdone\n",
            "  Created wheel for clip: filename=clip-1.0-py3-none-any.whl size=1369398 sha256=5f2c4fac9a6ab886d208e3c668dae27016004cea5eca77c600032faaeccb21bb\n",
            "  Stored in directory: /tmp/pip-ephem-wheel-cache-uinxdj4w/wheels/c8/e4/e1/11374c111387672fc2068dfbe0d4b424cb9cdd1b2e184a71b5\n",
            "  Building wheel for pathtools (setup.py) ... \u001b[?25l\u001b[?25hdone\n",
            "  Created wheel for pathtools: filename=pathtools-0.1.2-py3-none-any.whl size=8807 sha256=751282a16677c302bd073841d18d54aa869c8acd85604b7a34a808831ee2b62d\n",
            "  Stored in directory: /root/.cache/pip/wheels/b7/0a/67/ada2a22079218c75a88361c0782855cc72aebc4d18d0289d05\n",
            "Successfully built sentence-transformers srt pickle5 whisper language-evaluation clip pathtools\n",
            "Installing collected packages: tokenizers, sentencepiece, pickle5, pathtools, ujson, srt, smmap, setproctitle, sentry-sdk, jmespath, jedi, ftfy, ffmpeg-python, docker-pycreds, colorlog, kornia, huggingface-hub, gitdb, botocore, accelerate, transformers, timm, s3transfer, language-evaluation, GitPython, clip, whisper, wandb, sentence-transformers, pycocoevalcap, boto3, bert-score\n",
            "Successfully installed GitPython-3.1.31 accelerate-0.18.0 bert-score-0.3.13 boto3-1.26.102 botocore-1.29.102 clip-1.0 colorlog-6.7.0 docker-pycreds-0.4.0 ffmpeg-python-0.2.0 ftfy-6.1.1 gitdb-4.0.10 huggingface-hub-0.13.3 jedi-0.18.2 jmespath-1.0.1 kornia-0.6.11 language-evaluation-0.1.0 pathtools-0.1.2 pickle5-0.0.11 pycocoevalcap-1.2 s3transfer-0.6.0 sentence-transformers-2.2.2 sentencepiece-0.1.97 sentry-sdk-1.18.0 setproctitle-1.3.2 smmap-5.0.0 srt-3.5.3 timm-0.6.13 tokenizers-0.13.2 transformers-4.27.4 ujson-5.7.0 wandb-0.14.0 whisper-1.0\n"
          ]
        }
      ],
      "source": [
        "!pip install -r requirements.txt"
      ]
    },
    {
      "cell_type": "markdown",
      "metadata": {
        "id": "Jp5Jn_tjd92j"
      },
      "source": [
        "# Downloaded Pre-extracted features"
      ]
    },
    {
      "cell_type": "code",
      "execution_count": 5,
      "metadata": {
        "colab": {
          "base_uri": "https://localhost:8080/"
        },
        "id": "9fIARuIsd92j",
        "outputId": "75a81e5b-999e-475a-96a3-8fe12a4311ce"
      },
      "outputs": [
        {
          "output_type": "stream",
          "name": "stdout",
          "text": [
            "--2023-03-30 02:28:01--  https://huggingface.co/j-min/HiREST-baseline/resolve/main/eva_clip_features_32_frame.zip\n",
            "Resolving huggingface.co (huggingface.co)... 34.203.133.210, 52.2.178.255, 35.173.225.216, ...\n",
            "Connecting to huggingface.co (huggingface.co)|34.203.133.210|:443... connected.\n",
            "HTTP request sent, awaiting response... 302 Found\n",
            "Location: https://cdn-lfs.huggingface.co/repos/43/e5/43e5477f8142d4d657272c2d83709064f52cea70061d7f463fe4e9973cc4707b/bdf94645389cad92d2659e3ff8378ff3389e4d2e56e6197ef988da47185cd9e4?response-content-disposition=attachment%3B+filename*%3DUTF-8%27%27eva_clip_features_32_frame.zip%3B+filename%3D%22eva_clip_features_32_frame.zip%22%3B&response-content-type=application%2Fzip&Expires=1680402483&Policy=eyJTdGF0ZW1lbnQiOlt7IlJlc291cmNlIjoiaHR0cHM6Ly9jZG4tbGZzLmh1Z2dpbmdmYWNlLmNvL3JlcG9zLzQzL2U1LzQzZTU0NzdmODE0MmQ0ZDY1NzI3MmMyZDgzNzA5MDY0ZjUyY2VhNzAwNjFkN2Y0NjNmZTRlOTk3M2NjNDcwN2IvYmRmOTQ2NDUzODljYWQ5MmQyNjU5ZTNmZjgzNzhmZjMzODllNGQyZTU2ZTYxOTdlZjk4OGRhNDcxODVjZDllND9yZXNwb25zZS1jb250ZW50LWRpc3Bvc2l0aW9uPSomcmVzcG9uc2UtY29udGVudC10eXBlPSoiLCJDb25kaXRpb24iOnsiRGF0ZUxlc3NUaGFuIjp7IkFXUzpFcG9jaFRpbWUiOjE2ODA0MDI0ODN9fX1dfQ__&Signature=pxhztr43jlPibJIXwhh71bsMyOsuaXc78W%7EeHvPsNc5xuGfVDK-8DgvjDWHCrxpmToMGVuOYKZi0xv8qouW2sLMo0co%7E-kj6yE-J-kcQepcqb3ziWh-muWz4lHqJdN2yzbmePLWX4C-h297UNAlbntB1rMNCgw%7EzjJJlT%7EotxAYjCYTP2fxWvDBiA3gOrLCS%7EGz2vQzNdr8VB61eabV7IvuZZRqu%7E4iWyUOhUnoIcfojkLteC6dvZdv2liJiwRaOxiBxIbx87R%7EuRsZKhCJZqDvKxYltvZ9lWh%7EeNOwwLEIzU2DCCC57WtQ%7Epbqkr8eKuPgAIp8ZFE-n9BiykGECaw__&Key-Pair-Id=KVTP0A1DKRTAX [following]\n",
            "--2023-03-30 02:28:02--  https://cdn-lfs.huggingface.co/repos/43/e5/43e5477f8142d4d657272c2d83709064f52cea70061d7f463fe4e9973cc4707b/bdf94645389cad92d2659e3ff8378ff3389e4d2e56e6197ef988da47185cd9e4?response-content-disposition=attachment%3B+filename*%3DUTF-8%27%27eva_clip_features_32_frame.zip%3B+filename%3D%22eva_clip_features_32_frame.zip%22%3B&response-content-type=application%2Fzip&Expires=1680402483&Policy=eyJTdGF0ZW1lbnQiOlt7IlJlc291cmNlIjoiaHR0cHM6Ly9jZG4tbGZzLmh1Z2dpbmdmYWNlLmNvL3JlcG9zLzQzL2U1LzQzZTU0NzdmODE0MmQ0ZDY1NzI3MmMyZDgzNzA5MDY0ZjUyY2VhNzAwNjFkN2Y0NjNmZTRlOTk3M2NjNDcwN2IvYmRmOTQ2NDUzODljYWQ5MmQyNjU5ZTNmZjgzNzhmZjMzODllNGQyZTU2ZTYxOTdlZjk4OGRhNDcxODVjZDllND9yZXNwb25zZS1jb250ZW50LWRpc3Bvc2l0aW9uPSomcmVzcG9uc2UtY29udGVudC10eXBlPSoiLCJDb25kaXRpb24iOnsiRGF0ZUxlc3NUaGFuIjp7IkFXUzpFcG9jaFRpbWUiOjE2ODA0MDI0ODN9fX1dfQ__&Signature=pxhztr43jlPibJIXwhh71bsMyOsuaXc78W%7EeHvPsNc5xuGfVDK-8DgvjDWHCrxpmToMGVuOYKZi0xv8qouW2sLMo0co%7E-kj6yE-J-kcQepcqb3ziWh-muWz4lHqJdN2yzbmePLWX4C-h297UNAlbntB1rMNCgw%7EzjJJlT%7EotxAYjCYTP2fxWvDBiA3gOrLCS%7EGz2vQzNdr8VB61eabV7IvuZZRqu%7E4iWyUOhUnoIcfojkLteC6dvZdv2liJiwRaOxiBxIbx87R%7EuRsZKhCJZqDvKxYltvZ9lWh%7EeNOwwLEIzU2DCCC57WtQ%7Epbqkr8eKuPgAIp8ZFE-n9BiykGECaw__&Key-Pair-Id=KVTP0A1DKRTAX\n",
            "Resolving cdn-lfs.huggingface.co (cdn-lfs.huggingface.co)... 13.227.254.123, 13.227.254.47, 13.227.254.33, ...\n",
            "Connecting to cdn-lfs.huggingface.co (cdn-lfs.huggingface.co)|13.227.254.123|:443... connected.\n",
            "HTTP request sent, awaiting response... 200 OK\n",
            "Length: 10357831192 (9.6G) [application/zip]\n",
            "Saving to: ‘eva_clip_features_32_frame.zip’\n",
            "\n",
            "eva_clip_features_3 100%[===================>]   9.65G  13.0MB/s    in 10m 41s \n",
            "\n",
            "2023-03-30 02:38:45 (15.4 MB/s) - ‘eva_clip_features_32_frame.zip’ saved [10357831192/10357831192]\n",
            "\n"
          ]
        }
      ],
      "source": [
        "# EVA-CLIP G features with 32 frames per video\n",
        "!wget https://huggingface.co/j-min/HiREST-baseline/resolve/main/eva_clip_features_32_frame.zip"
      ]
    },
    {
      "cell_type": "code",
      "execution_count": 6,
      "metadata": {
        "id": "Ago4In_Id92j"
      },
      "outputs": [],
      "source": [
        "!unzip -q eva_clip_features_32_frame.zip"
      ]
    },
    {
      "cell_type": "code",
      "execution_count": 7,
      "metadata": {
        "id": "V0mEQgc0d92k"
      },
      "outputs": [],
      "source": [
        "!mv eva_clip_features_32_frame/ data/eva_clip_features/"
      ]
    },
    {
      "cell_type": "markdown",
      "metadata": {
        "id": "SjgnyAHpd92k"
      },
      "source": [
        "# Download Pretrained Weights"
      ]
    },
    {
      "cell_type": "code",
      "execution_count": 8,
      "metadata": {
        "id": "xqUYFjdSd92k"
      },
      "outputs": [],
      "source": [
        "!mkdir ./pretrained_weights/"
      ]
    },
    {
      "cell_type": "code",
      "execution_count": 9,
      "metadata": {
        "colab": {
          "base_uri": "https://localhost:8080/"
        },
        "id": "a2NjQnbTd92k",
        "outputId": "25f03db8-acbc-42cb-82ff-28cb3036f743"
      },
      "outputs": [
        {
          "output_type": "stream",
          "name": "stdout",
          "text": [
            "--2023-03-30 02:41:05--  https://huggingface.co/BAAI/EVA/resolve/main/eva_clip_psz14.pt\n",
            "Resolving huggingface.co (huggingface.co)... 52.2.178.255, 54.82.45.103, 35.173.225.216, ...\n",
            "Connecting to huggingface.co (huggingface.co)|52.2.178.255|:443... connected.\n",
            "HTTP request sent, awaiting response... 302 Found\n",
            "Location: https://cdn-lfs.huggingface.co/repos/58/f1/58f17426d51756a1aa3793fad0651594b6c14d7bf99c577181cb2e0614f61817/fe1d3a90bb88c3816a8c708b8a16c11c93cc323ec9e7bc7a0e8b979449fa9785?response-content-disposition=attachment%3B+filename*%3DUTF-8%27%27eva_clip_psz14.pt%3B+filename%3D%22eva_clip_psz14.pt%22%3B&Expires=1680403266&Policy=eyJTdGF0ZW1lbnQiOlt7IlJlc291cmNlIjoiaHR0cHM6Ly9jZG4tbGZzLmh1Z2dpbmdmYWNlLmNvL3JlcG9zLzU4L2YxLzU4ZjE3NDI2ZDUxNzU2YTFhYTM3OTNmYWQwNjUxNTk0YjZjMTRkN2JmOTljNTc3MTgxY2IyZTA2MTRmNjE4MTcvZmUxZDNhOTBiYjg4YzM4MTZhOGM3MDhiOGExNmMxMWM5M2NjMzIzZWM5ZTdiYzdhMGU4Yjk3OTQ0OWZhOTc4NT9yZXNwb25zZS1jb250ZW50LWRpc3Bvc2l0aW9uPSoiLCJDb25kaXRpb24iOnsiRGF0ZUxlc3NUaGFuIjp7IkFXUzpFcG9jaFRpbWUiOjE2ODA0MDMyNjZ9fX1dfQ__&Signature=HCDoGXAmYghUeZCzxoNtUR9FoXKXsaTAjDXrw3pyYuf-%7Eb3CFkz7HfuTAtordNsE2ASeN31l2pFphaj8gcoYW4YElk0lqbIowQz3dmqA%7EoevFtcJqZtmsSzAvxpG-uyLwbiuqnfDCc8c9ZGLl6O6bLwegK4veI6yL3CiccB7-PoSOistFPtcBzrYc%7E3gLiwYBqyGn4JpS6A3BVguD7ai2qWMWCrq7o53aZxgZ6w4Uyv2EykKPx8kAhtryetSz8CMVHXwnCxyYwRCY14z9VSHgMSB9ylrSo%7E5UX7jRX4cv4dqn9jKHAhDYLmxrQXVWyQK4UQvwNyS67L7mKuLbnM0wA__&Key-Pair-Id=KVTP0A1DKRTAX [following]\n",
            "--2023-03-30 02:41:06--  https://cdn-lfs.huggingface.co/repos/58/f1/58f17426d51756a1aa3793fad0651594b6c14d7bf99c577181cb2e0614f61817/fe1d3a90bb88c3816a8c708b8a16c11c93cc323ec9e7bc7a0e8b979449fa9785?response-content-disposition=attachment%3B+filename*%3DUTF-8%27%27eva_clip_psz14.pt%3B+filename%3D%22eva_clip_psz14.pt%22%3B&Expires=1680403266&Policy=eyJTdGF0ZW1lbnQiOlt7IlJlc291cmNlIjoiaHR0cHM6Ly9jZG4tbGZzLmh1Z2dpbmdmYWNlLmNvL3JlcG9zLzU4L2YxLzU4ZjE3NDI2ZDUxNzU2YTFhYTM3OTNmYWQwNjUxNTk0YjZjMTRkN2JmOTljNTc3MTgxY2IyZTA2MTRmNjE4MTcvZmUxZDNhOTBiYjg4YzM4MTZhOGM3MDhiOGExNmMxMWM5M2NjMzIzZWM5ZTdiYzdhMGU4Yjk3OTQ0OWZhOTc4NT9yZXNwb25zZS1jb250ZW50LWRpc3Bvc2l0aW9uPSoiLCJDb25kaXRpb24iOnsiRGF0ZUxlc3NUaGFuIjp7IkFXUzpFcG9jaFRpbWUiOjE2ODA0MDMyNjZ9fX1dfQ__&Signature=HCDoGXAmYghUeZCzxoNtUR9FoXKXsaTAjDXrw3pyYuf-%7Eb3CFkz7HfuTAtordNsE2ASeN31l2pFphaj8gcoYW4YElk0lqbIowQz3dmqA%7EoevFtcJqZtmsSzAvxpG-uyLwbiuqnfDCc8c9ZGLl6O6bLwegK4veI6yL3CiccB7-PoSOistFPtcBzrYc%7E3gLiwYBqyGn4JpS6A3BVguD7ai2qWMWCrq7o53aZxgZ6w4Uyv2EykKPx8kAhtryetSz8CMVHXwnCxyYwRCY14z9VSHgMSB9ylrSo%7E5UX7jRX4cv4dqn9jKHAhDYLmxrQXVWyQK4UQvwNyS67L7mKuLbnM0wA__&Key-Pair-Id=KVTP0A1DKRTAX\n",
            "Resolving cdn-lfs.huggingface.co (cdn-lfs.huggingface.co)... 54.192.150.84, 54.192.150.21, 54.192.150.69, ...\n",
            "Connecting to cdn-lfs.huggingface.co (cdn-lfs.huggingface.co)|54.192.150.84|:443... connected.\n",
            "HTTP request sent, awaiting response... 200 OK\n",
            "Length: 2273012515 (2.1G) [binary/octet-stream]\n",
            "Saving to: ‘eva_clip_psz14.pt’\n",
            "\n",
            "eva_clip_psz14.pt   100%[===================>]   2.12G  96.9MB/s    in 23s     \n",
            "\n",
            "2023-03-30 02:41:29 (93.3 MB/s) - ‘eva_clip_psz14.pt’ saved [2273012515/2273012515]\n",
            "\n"
          ]
        }
      ],
      "source": [
        "# EVA-CLIP-G (frozen visual/textual encoder)\n",
        "!wget https://huggingface.co/BAAI/EVA/resolve/main/eva_clip_psz14.pt\n",
        "!mv eva_clip_psz14.pt ./pretrained_weights/eva_clip_psz14.pt"
      ]
    },
    {
      "cell_type": "markdown",
      "metadata": {
        "id": "KV3HTXrQd92k"
      },
      "source": [
        "# Run video retrieval inference\n",
        "\n",
        "You can change `n_model_frames` to other numbers <= 32."
      ]
    },
    {
      "cell_type": "code",
      "source": [
        "!python inference_video_retrieval.py \\\n",
        "        --data_dir './data/splits' \\\n",
        "        --video_feature_dir './data/eva_clip_features' \\\n",
        "        --optim adamw \\\n",
        "        --n_model_frames 20 \\\n",
        "        --num_workers 4 \\\n",
        "        --eval_batch_size 10 \\\n",
        "        --device 'cuda' \\\n",
        "        --video_retrieval_model 'clip_g' \\\n",
        "        --run_name clip_g_VR_20frames_avgpool"
      ],
      "metadata": {
        "colab": {
          "base_uri": "https://localhost:8080/"
        },
        "id": "CXyAbnL2dQjf",
        "outputId": "f62b97ae-f90a-45ad-a307-7a382eef0521"
      },
      "execution_count": 13,
      "outputs": [
        {
          "output_type": "stream",
          "name": "stdout",
          "text": [
            "<All keys matched successfully>\n",
            "Loaded EVA CLIP G\n",
            "self.videos: 1391\n",
            "self.prompts: 546\n",
            "split: test_negative_samples\n",
            "self.videos: 2891\n",
            "self.prompts: 2891\n",
            "Number of prompts:  546\n",
            "Number of videos:  4282\n",
            "Computing text embeddings\n",
            "Computing text embeddings: 100% 55/55 [00:03<00:00, 17.08it/s]\n",
            "Text embeddings shape: torch.Size([546, 1024])\n",
            "Computing video embeddings\n",
            "Video feature dir: data/eva_clip_features\n",
            "Video feature dir exists: True\n",
            "N frames: 20\n",
            "Computing video embeddings - N frames: 20: 100% 4282/4282 [01:04<00:00, 66.89it/s]\n",
            "Video embeddings shape: torch.Size([4282, 1024])\n",
            "Computing scores\n",
            "Scores shape: torch.Size([546, 4282])\n",
            "Preparing output json: 100% 546/546 [00:00<00:00, 6479.61it/s]\n",
            "Saved results to VR_results/clip_g_VR_20frames_avgpool.json\n"
          ]
        }
      ]
    },
    {
      "cell_type": "markdown",
      "source": [
        "# Calculate score"
      ],
      "metadata": {
        "id": "IkXJrRFBYnSJ"
      }
    },
    {
      "cell_type": "code",
      "execution_count": 14,
      "metadata": {
        "id": "6VdCju3Ar1yH",
        "colab": {
          "base_uri": "https://localhost:8080/"
        },
        "outputId": "ee1ec1ba-78a5-4ebb-a3be-4c9da0b486e0"
      },
      "outputs": [
        {
          "output_type": "stream",
          "name": "stdout",
          "text": [
            "Namespace(task='video_retrieval', gt_data=None, pred_data='VR_results/clip_g_VR_20frames_avgpool.json', device=-1, print_per_category=False, help=False, preprocess_moment_bounds=False, replace_pred_moment_bounds=False, frame_dir='None')\n",
            "100% 546/546 [00:02<00:00, 203.67it/s]\n",
            "{'total_prompt_count': 546, 'R@1': 26.373626373626376, 'R@5': 51.098901098901095, 'R@10': 61.53846153846154, 'R@50': 80.76923076923077}\n"
          ]
        }
      ],
      "source": [
        "!python evaluate.py --task video_retrieval --pred_data VR_results/clip_g_VR_20frames_avgpool.json"
      ]
    }
  ],
  "metadata": {
    "accelerator": "GPU",
    "colab": {
      "provenance": [],
      "include_colab_link": true
    },
    "gpuClass": "standard",
    "kernelspec": {
      "display_name": "Python 3",
      "language": "python",
      "name": "python3"
    },
    "language_info": {
      "codemirror_mode": {
        "name": "ipython",
        "version": 3
      },
      "file_extension": ".py",
      "mimetype": "text/x-python",
      "name": "python",
      "nbconvert_exporter": "python",
      "pygments_lexer": "ipython3",
      "version": "3.8.16"
    },
    "orig_nbformat": 4
  },
  "nbformat": 4,
  "nbformat_minor": 0
}